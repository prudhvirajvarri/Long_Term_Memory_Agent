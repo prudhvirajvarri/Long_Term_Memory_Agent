{
 "cells": [
  {
   "cell_type": "code",
   "execution_count": 1,
   "id": "ea1508ac-3118-44b4-9376-378b9ce7e5a9",
   "metadata": {},
   "outputs": [],
   "source": [
    "import json\n",
    "from openai import OpenAI\n",
    "from memory_manager import create_memory, retrieve_memory, delete_memory"
   ]
  },
  {
   "cell_type": "code",
   "execution_count": 11,
   "id": "d4e94d65-04ce-4e50-810f-9d78c83dee09",
   "metadata": {},
   "outputs": [],
   "source": [
    "client = OpenAI(api_key=\"your_api_key\")"
   ]
  },
  {
   "cell_type": "code",
   "execution_count": 3,
   "id": "92625f1b-d841-4c98-9372-16ac177c8908",
   "metadata": {},
   "outputs": [],
   "source": [
    "tools = [\n",
    "    {\n",
    "        \"type\": \"function\",\n",
    "        \"function\": {\n",
    "            \"name\": \"create_memory\",\n",
    "            \"description\": \"Uses this function to store a new piece of information or fact. For example, when the user says 'Remember that my name is Prudhvi'.\",\n",
    "            \"parameters\": {\n",
    "                \"type\": \"object\",\n",
    "                \"properties\": {\n",
    "                    \"content\": {\n",
    "                        \"type\": \"string\",\n",
    "                        \"description\": \"The specific fact or piece of information to remembered.\",\n",
    "                    },\n",
    "                },\n",
    "                \"required\": [\"content\"]\n",
    "            },\n",
    "        },\n",
    "    },\n",
    "    {\n",
    "        \"type\": \"function\",\n",
    "        \"function\": {\n",
    "            \"name\": \"retrieve_memory\",\n",
    "            \"description\": \"Uses this function to find a relevent memory when the user asks a question. For example, when the user asks 'What is my name?'\",\n",
    "            \"parameters\": {\n",
    "                \"type\": \"object\",\n",
    "                \"properties\": {\n",
    "                    \"query\": {\n",
    "                        \"type\": \"string\",\n",
    "                        \"description\": \"The user's question or the topic to search for in memory.\",\n",
    "                    },\n",
    "                    \"n_results\": {\n",
    "                        \"type\": \"integer\",\n",
    "                        \"default\": 1,\n",
    "                        \"description\": \"The number of results to return.\"\n",
    "                    },\n",
    "                },\n",
    "                \"required\": [\"query\"]\n",
    "            },\n",
    "        },\n",
    "    },\n",
    "    {\n",
    "        \"type\": \"function\",\n",
    "        \"function\": {\n",
    "            \"name\": \"delete_memory\",\n",
    "            \"description\": \"Uses this function to delete a specific memory when the user explicitly says to forget something. For example, when the user says 'Forget that my name is Prudhvi'.\",\n",
    "            \"parameters\": {\n",
    "                \"type\": \"object\",\n",
    "                \"properties\": {\n",
    "                    \"content_to_delete\": {\n",
    "                        \"type\": \"string\",\n",
    "                        \"description\": \"The specific content of the memory to deleted.\",\n",
    "                    },\n",
    "                },\n",
    "                \"required\": [\"content_to_delete\"]\n",
    "            },\n",
    "        },\n",
    "    }\n",
    "]"
   ]
  },
  {
   "cell_type": "code",
   "execution_count": 4,
   "id": "6eafdea0-fe33-48ce-8277-2c0bc6e5a170",
   "metadata": {},
   "outputs": [],
   "source": [
    "available_functions = {\n",
    "    \"create_memory\": create_memory,\n",
    "    \"retrieve_memory\": retrieve_memory,\n",
    "    \"delete_memory\": delete_memory,\n",
    "}"
   ]
  },
  {
   "cell_type": "code",
   "execution_count": 5,
   "id": "4251d383-226a-4aa0-9618-c9fa941e049c",
   "metadata": {},
   "outputs": [],
   "source": [
    " messages = [\n",
    "        {\n",
    "            \"role\": \"system\",\n",
    "            \"content\": \"You are a helpful AI assistant with access to tools for long-term memory.\"\n",
    "        }\n",
    "    ]"
   ]
  },
  {
   "cell_type": "code",
   "execution_count": 6,
   "id": "80c4f1ef-a94d-47e5-8eb8-9df96a947150",
   "metadata": {},
   "outputs": [
    {
     "name": "stdin",
     "output_type": "stream",
     "text": [
      "You:  my name is prudhvi.\n"
     ]
    }
   ],
   "source": [
    "user_input = input(\"You: \")"
   ]
  },
  {
   "cell_type": "code",
   "execution_count": 7,
   "id": "c8ea4cb6-6df8-4cd3-8de5-fd86e0ea6852",
   "metadata": {},
   "outputs": [],
   "source": [
    "messages.append({\n",
    "            \"role\": \"user\",\n",
    "            \"content\": user_input\n",
    "        })"
   ]
  },
  {
   "cell_type": "code",
   "execution_count": 8,
   "id": "76972935-57a1-4a68-954b-643505119a0a",
   "metadata": {},
   "outputs": [
    {
     "data": {
      "text/plain": [
       "[{'role': 'system',\n",
       "  'content': 'You are a helpful AI assistant with access to tools for long-term memory.'},\n",
       " {'role': 'user', 'content': 'my name is prudhvi.'}]"
      ]
     },
     "execution_count": 8,
     "metadata": {},
     "output_type": "execute_result"
    }
   ],
   "source": [
    "messages"
   ]
  },
  {
   "cell_type": "code",
   "execution_count": 14,
   "id": "383ef567-c257-4a69-bacd-129f26e877cf",
   "metadata": {},
   "outputs": [],
   "source": [
    "response = client.chat.completions.create(\n",
    "            model = \"gpt-4o-mini\",\n",
    "            messages = messages,\n",
    "            tools = tools,\n",
    "            tool_choice = \"auto\",\n",
    "        )"
   ]
  },
  {
   "cell_type": "code",
   "execution_count": 15,
   "id": "542cd249-adfd-446a-9c3e-a37ebc114596",
   "metadata": {},
   "outputs": [
    {
     "data": {
      "text/plain": [
       "ChatCompletion(id='chatcmpl-C1E6LhS8I8MQAgGPlyDMIqhcEfsOL', choices=[Choice(finish_reason='tool_calls', index=0, logprobs=None, message=ChatCompletionMessage(content=None, refusal=None, role='assistant', annotations=[], audio=None, function_call=None, tool_calls=[ChatCompletionMessageToolCall(id='call_Ks13T3atDv9O78id9SutnYns', function=Function(arguments='{\"content\":\"User\\'s name is Prudhvi.\"}', name='create_memory'), type='function')]))], created=1754408569, model='gpt-4o-mini-2024-07-18', object='chat.completion', service_tier='default', system_fingerprint='fp_34a54ae93c', usage=CompletionUsage(completion_tokens=21, prompt_tokens=235, total_tokens=256, completion_tokens_details=CompletionTokensDetails(accepted_prediction_tokens=0, audio_tokens=0, reasoning_tokens=0, rejected_prediction_tokens=0), prompt_tokens_details=PromptTokensDetails(audio_tokens=0, cached_tokens=0)))"
      ]
     },
     "execution_count": 15,
     "metadata": {},
     "output_type": "execute_result"
    }
   ],
   "source": [
    "response"
   ]
  },
  {
   "cell_type": "code",
   "execution_count": 16,
   "id": "2a8eb6e3-c0fc-4a5e-a8e5-d6369ea0e2ac",
   "metadata": {},
   "outputs": [
    {
     "data": {
      "text/plain": [
       "Choice(finish_reason='tool_calls', index=0, logprobs=None, message=ChatCompletionMessage(content=None, refusal=None, role='assistant', annotations=[], audio=None, function_call=None, tool_calls=[ChatCompletionMessageToolCall(id='call_Ks13T3atDv9O78id9SutnYns', function=Function(arguments='{\"content\":\"User\\'s name is Prudhvi.\"}', name='create_memory'), type='function')]))"
      ]
     },
     "execution_count": 16,
     "metadata": {},
     "output_type": "execute_result"
    }
   ],
   "source": [
    "response.choices[0]"
   ]
  },
  {
   "cell_type": "code",
   "execution_count": 17,
   "id": "01af202c-f1b9-4862-bdcc-fb6722ddadc2",
   "metadata": {},
   "outputs": [],
   "source": [
    "response_message =  response.choices[0].message"
   ]
  },
  {
   "cell_type": "code",
   "execution_count": 18,
   "id": "1aaa3279-a258-4090-8bd7-7520217af784",
   "metadata": {},
   "outputs": [
    {
     "data": {
      "text/plain": [
       "ChatCompletionMessage(content=None, refusal=None, role='assistant', annotations=[], audio=None, function_call=None, tool_calls=[ChatCompletionMessageToolCall(id='call_Ks13T3atDv9O78id9SutnYns', function=Function(arguments='{\"content\":\"User\\'s name is Prudhvi.\"}', name='create_memory'), type='function')])"
      ]
     },
     "execution_count": 18,
     "metadata": {},
     "output_type": "execute_result"
    }
   ],
   "source": [
    "response_message"
   ]
  },
  {
   "cell_type": "code",
   "execution_count": 19,
   "id": "5d6d878f-39f7-4dc7-94cf-33d47f62e77d",
   "metadata": {},
   "outputs": [],
   "source": [
    "messages.append(response_message)"
   ]
  },
  {
   "cell_type": "code",
   "execution_count": 20,
   "id": "f555a269-1c58-418c-b285-395d81488e75",
   "metadata": {},
   "outputs": [
    {
     "data": {
      "text/plain": [
       "[{'role': 'system',\n",
       "  'content': 'You are a helpful AI assistant with access to tools for long-term memory.'},\n",
       " {'role': 'user', 'content': 'my name is prudhvi.'},\n",
       " ChatCompletionMessage(content=None, refusal=None, role='assistant', annotations=[], audio=None, function_call=None, tool_calls=[ChatCompletionMessageToolCall(id='call_Ks13T3atDv9O78id9SutnYns', function=Function(arguments='{\"content\":\"User\\'s name is Prudhvi.\"}', name='create_memory'), type='function')])]"
      ]
     },
     "execution_count": 20,
     "metadata": {},
     "output_type": "execute_result"
    }
   ],
   "source": [
    "messages"
   ]
  },
  {
   "cell_type": "code",
   "execution_count": 21,
   "id": "e324a18d-466f-4ed2-8966-65bdf921726c",
   "metadata": {},
   "outputs": [],
   "source": [
    "tool_calls = response_message.tool_calls"
   ]
  },
  {
   "cell_type": "code",
   "execution_count": 22,
   "id": "727f9599-3265-4f42-8001-736a0cdfce50",
   "metadata": {},
   "outputs": [
    {
     "data": {
      "text/plain": [
       "[ChatCompletionMessageToolCall(id='call_Ks13T3atDv9O78id9SutnYns', function=Function(arguments='{\"content\":\"User\\'s name is Prudhvi.\"}', name='create_memory'), type='function')]"
      ]
     },
     "execution_count": 22,
     "metadata": {},
     "output_type": "execute_result"
    }
   ],
   "source": [
    "tool_calls"
   ]
  },
  {
   "cell_type": "code",
   "execution_count": 23,
   "id": "7e1932d5-b041-412f-a055-9e5914eb0782",
   "metadata": {},
   "outputs": [
    {
     "data": {
      "text/plain": [
       "Function(arguments='{\"content\":\"User\\'s name is Prudhvi.\"}', name='create_memory')"
      ]
     },
     "execution_count": 23,
     "metadata": {},
     "output_type": "execute_result"
    }
   ],
   "source": [
    "tool_calls[0].function"
   ]
  },
  {
   "cell_type": "code",
   "execution_count": 24,
   "id": "98628009-2667-4665-bf99-c71982e56a86",
   "metadata": {},
   "outputs": [],
   "source": [
    "function_name = tool_calls[0].function.name"
   ]
  },
  {
   "cell_type": "code",
   "execution_count": 25,
   "id": "c3bf11fc-abea-4d32-8ee5-61b23d495c33",
   "metadata": {},
   "outputs": [
    {
     "data": {
      "text/plain": [
       "'create_memory'"
      ]
     },
     "execution_count": 25,
     "metadata": {},
     "output_type": "execute_result"
    }
   ],
   "source": [
    "function_name"
   ]
  },
  {
   "cell_type": "code",
   "execution_count": 26,
   "id": "e2961cc7-badb-4c2e-922a-2dd9da0f3ea6",
   "metadata": {},
   "outputs": [],
   "source": [
    "function_to_call = available_functions[function_name]"
   ]
  },
  {
   "cell_type": "code",
   "execution_count": 27,
   "id": "9410f929-e9a5-43b8-9216-a19cda81ff2d",
   "metadata": {},
   "outputs": [
    {
     "data": {
      "text/plain": [
       "<function memory_manager.create_memory(content: str)>"
      ]
     },
     "execution_count": 27,
     "metadata": {},
     "output_type": "execute_result"
    }
   ],
   "source": [
    "function_to_call"
   ]
  },
  {
   "cell_type": "code",
   "execution_count": 28,
   "id": "9de4f7bb-9ce7-4c4c-8d98-ffc274064118",
   "metadata": {},
   "outputs": [
    {
     "data": {
      "text/plain": [
       "'{\"content\":\"User\\'s name is Prudhvi.\"}'"
      ]
     },
     "execution_count": 28,
     "metadata": {},
     "output_type": "execute_result"
    }
   ],
   "source": [
    "tool_calls[0].function.arguments"
   ]
  },
  {
   "cell_type": "code",
   "execution_count": 29,
   "id": "fbd771db-c1e0-4c5c-b645-42c0d1a26b07",
   "metadata": {},
   "outputs": [],
   "source": [
    "function_args = json.loads(tool_calls[0].function.arguments)"
   ]
  },
  {
   "cell_type": "code",
   "execution_count": 30,
   "id": "28d12f12-567d-425b-a3fa-a473b468fc10",
   "metadata": {},
   "outputs": [
    {
     "data": {
      "text/plain": [
       "{'content': \"User's name is Prudhvi.\"}"
      ]
     },
     "execution_count": 30,
     "metadata": {},
     "output_type": "execute_result"
    }
   ],
   "source": [
    "function_args"
   ]
  },
  {
   "cell_type": "code",
   "execution_count": 31,
   "id": "5c9c57ae-172f-4e6d-b2eb-cfd9c0f90157",
   "metadata": {},
   "outputs": [
    {
     "name": "stdout",
     "output_type": "stream",
     "text": [
      "MEMORY CREATED: 'User's name is Prudhvi.' with ID 63d19247-7b2d-4a70-b45b-36b21a65bbf3\n"
     ]
    }
   ],
   "source": [
    "function_response = function_to_call(**function_args)"
   ]
  },
  {
   "cell_type": "code",
   "execution_count": 32,
   "id": "c8a98aa7-9afd-4bfc-ad36-876d1ab6dee5",
   "metadata": {},
   "outputs": [
    {
     "data": {
      "text/plain": [
       "'call_Ks13T3atDv9O78id9SutnYns'"
      ]
     },
     "execution_count": 32,
     "metadata": {},
     "output_type": "execute_result"
    }
   ],
   "source": [
    "tool_calls[0].id"
   ]
  },
  {
   "cell_type": "code",
   "execution_count": 33,
   "id": "dd5c1bae-f801-4069-a725-e9bbbb08e888",
   "metadata": {},
   "outputs": [],
   "source": [
    "messages.append(\n",
    "    {\n",
    "        \"tool_call_id\" : tool_calls[0].id,\n",
    "        \"role\" : \"tool\",\n",
    "        \"name\" : function_name,\n",
    "        \"content\" : function_response,\n",
    "    }\n",
    ")"
   ]
  },
  {
   "cell_type": "code",
   "execution_count": 34,
   "id": "52c839e4-1ea7-4a8c-a364-e77c6a64ae40",
   "metadata": {},
   "outputs": [
    {
     "data": {
      "text/plain": [
       "[{'role': 'system',\n",
       "  'content': 'You are a helpful AI assistant with access to tools for long-term memory.'},\n",
       " {'role': 'user', 'content': 'my name is prudhvi.'},\n",
       " ChatCompletionMessage(content=None, refusal=None, role='assistant', annotations=[], audio=None, function_call=None, tool_calls=[ChatCompletionMessageToolCall(id='call_Ks13T3atDv9O78id9SutnYns', function=Function(arguments='{\"content\":\"User\\'s name is Prudhvi.\"}', name='create_memory'), type='function')]),\n",
       " {'tool_call_id': 'call_Ks13T3atDv9O78id9SutnYns',\n",
       "  'role': 'tool',\n",
       "  'name': 'create_memory',\n",
       "  'content': \"OK, I will remember that: 'User's name is Prudhvi.'\"}]"
      ]
     },
     "execution_count": 34,
     "metadata": {},
     "output_type": "execute_result"
    }
   ],
   "source": [
    "messages"
   ]
  },
  {
   "cell_type": "code",
   "execution_count": 35,
   "id": "71f7fca5-d5c8-4143-9c13-ca3490d71931",
   "metadata": {},
   "outputs": [],
   "source": [
    "second_response = client.chat.completions.create(\n",
    "    model = \"gpt-4o-mini\",\n",
    "    messages = messages,\n",
    ")"
   ]
  },
  {
   "cell_type": "code",
   "execution_count": 36,
   "id": "2db01640-9464-4ac0-a090-f86ea5090f35",
   "metadata": {},
   "outputs": [
    {
     "data": {
      "text/plain": [
       "ChatCompletion(id='chatcmpl-C1E6mcMlxr84tNLApax8zjkHqkr5L', choices=[Choice(finish_reason='stop', index=0, logprobs=None, message=ChatCompletionMessage(content='Nice to meet you, Prudhvi! How can I assist you today?', refusal=None, role='assistant', annotations=[], audio=None, function_call=None, tool_calls=None))], created=1754408596, model='gpt-4o-mini-2024-07-18', object='chat.completion', service_tier='default', system_fingerprint='fp_34a54ae93c', usage=CompletionUsage(completion_tokens=16, prompt_tokens=78, total_tokens=94, completion_tokens_details=CompletionTokensDetails(accepted_prediction_tokens=0, audio_tokens=0, reasoning_tokens=0, rejected_prediction_tokens=0), prompt_tokens_details=PromptTokensDetails(audio_tokens=0, cached_tokens=0)))"
      ]
     },
     "execution_count": 36,
     "metadata": {},
     "output_type": "execute_result"
    }
   ],
   "source": [
    "second_response"
   ]
  },
  {
   "cell_type": "code",
   "execution_count": 37,
   "id": "3ddd5e94-debc-4bcd-ba51-15d5a14d6423",
   "metadata": {},
   "outputs": [],
   "source": [
    "final_response = second_response.choices[0].message.content"
   ]
  },
  {
   "cell_type": "code",
   "execution_count": 38,
   "id": "75dbabbb-13ff-4087-9a82-efb27739e5ce",
   "metadata": {},
   "outputs": [
    {
     "data": {
      "text/plain": [
       "'Nice to meet you, Prudhvi! How can I assist you today?'"
      ]
     },
     "execution_count": 38,
     "metadata": {},
     "output_type": "execute_result"
    }
   ],
   "source": [
    "final_response"
   ]
  },
  {
   "cell_type": "code",
   "execution_count": 39,
   "id": "161e54db-f2ec-4d75-b3d9-ac9f47f84595",
   "metadata": {},
   "outputs": [],
   "source": [
    "messages.append(second_response.choices[0].message)"
   ]
  },
  {
   "cell_type": "code",
   "execution_count": 40,
   "id": "9cb6f22b-f0e5-4e9c-acff-ad2b23d9c086",
   "metadata": {},
   "outputs": [
    {
     "data": {
      "text/plain": [
       "[{'role': 'system',\n",
       "  'content': 'You are a helpful AI assistant with access to tools for long-term memory.'},\n",
       " {'role': 'user', 'content': 'my name is prudhvi.'},\n",
       " ChatCompletionMessage(content=None, refusal=None, role='assistant', annotations=[], audio=None, function_call=None, tool_calls=[ChatCompletionMessageToolCall(id='call_Ks13T3atDv9O78id9SutnYns', function=Function(arguments='{\"content\":\"User\\'s name is Prudhvi.\"}', name='create_memory'), type='function')]),\n",
       " {'tool_call_id': 'call_Ks13T3atDv9O78id9SutnYns',\n",
       "  'role': 'tool',\n",
       "  'name': 'create_memory',\n",
       "  'content': \"OK, I will remember that: 'User's name is Prudhvi.'\"},\n",
       " ChatCompletionMessage(content='Nice to meet you, Prudhvi! How can I assist you today?', refusal=None, role='assistant', annotations=[], audio=None, function_call=None, tool_calls=None)]"
      ]
     },
     "execution_count": 40,
     "metadata": {},
     "output_type": "execute_result"
    }
   ],
   "source": [
    "messages"
   ]
  },
  {
   "cell_type": "code",
   "execution_count": null,
   "id": "db4995d2-157c-49f5-ac9d-fd13fa7c63c1",
   "metadata": {},
   "outputs": [],
   "source": []
  },
  {
   "cell_type": "code",
   "execution_count": null,
   "id": "d3f5d60d-2e2c-4cff-8136-b0c0bfe237e8",
   "metadata": {},
   "outputs": [],
   "source": []
  },
  {
   "cell_type": "code",
   "execution_count": 2,
   "id": "53ece88b-a2d2-4180-b913-238c6527d90b",
   "metadata": {},
   "outputs": [],
   "source": [
    "import chromadb\n",
    "import uuid\n",
    "import time"
   ]
  },
  {
   "cell_type": "code",
   "execution_count": null,
   "id": "6a67b05c-377f-4b28-b92b-d198687d39d4",
   "metadata": {},
   "outputs": [],
   "source": [
    "client = chromadb.PersistentClient(path=\"db_prac_1\")\n",
    "\n",
    "collection = client.get_or_create_collection(\n",
    "    name=\"\",\n",
    "    metadata={\"hnsw\": {\"space\": \"cosine\"}\n",
    ")"
   ]
  },
  {
   "cell_type": "code",
   "execution_count": null,
   "id": "795abca6-37bc-4d55-8c52-dc4597fca08a",
   "metadata": {},
   "outputs": [],
   "source": [
    "def create_memory(content: str):\n",
    "    \n",
    "    memory_id = str(uuid.uuid4())\n",
    "    collection.add(\n",
    "        documents = [content],\n",
    "        ids = [memory_id]\n",
    "    )"
   ]
  }
 ],
 "metadata": {
  "kernelspec": {
   "display_name": "Python (memory-manager)",
   "language": "python",
   "name": "venv"
  },
  "language_info": {
   "codemirror_mode": {
    "name": "ipython",
    "version": 3
   },
   "file_extension": ".py",
   "mimetype": "text/x-python",
   "name": "python",
   "nbconvert_exporter": "python",
   "pygments_lexer": "ipython3",
   "version": "3.12.7"
  }
 },
 "nbformat": 4,
 "nbformat_minor": 5
}
